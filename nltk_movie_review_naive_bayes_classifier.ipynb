{
 "cells": [
  {
   "cell_type": "markdown",
   "id": "f297bed9-ebd7-42ab-8a70-40c0c4f1cc01",
   "metadata": {},
   "source": [
    "# NLTK Movie Reviews - Naive Bayes Classifier\n",
    "\n",
    "* I'll train a classifier using nltk corpus 'movie_reviews' and the Statistic Classifier 'Naive Bayes'"
   ]
  },
  {
   "cell_type": "code",
   "execution_count": 1,
   "id": "a0bec5ee-30dd-4d15-ab26-ff86cb7a22e2",
   "metadata": {},
   "outputs": [],
   "source": [
    "# Imports\n",
    "import nltk\n",
    "import random\n",
    "import pickle\n",
    "from nltk.corpus import movie_reviews"
   ]
  },
  {
   "cell_type": "code",
   "execution_count": 2,
   "id": "00574d8c-9868-48fc-8011-b50ee8047269",
   "metadata": {},
   "outputs": [],
   "source": [
    "# Getting the documents and their category from corpus\n",
    "documents = [(list(movie_reviews.words(fileid)), category)\n",
    "             for category in movie_reviews.categories()\n",
    "             for fileid in movie_reviews.fileids(category)]\n",
    "\n",
    "# Shuffle\n",
    "random.shuffle(documents)"
   ]
  },
  {
   "cell_type": "code",
   "execution_count": 3,
   "id": "5faabc0e-735b-4278-8022-8867138647dc",
   "metadata": {},
   "outputs": [
    {
     "data": {
      "text/plain": [
       "FreqDist({',': 77717, 'the': 76529, '.': 65876, 'a': 38106, 'and': 35576, 'of': 34123, 'to': 31937, \"'\": 30585, 'is': 25195, 'in': 21822, ...})"
      ]
     },
     "execution_count": 3,
     "metadata": {},
     "output_type": "execute_result"
    }
   ],
   "source": [
    "# List of all words of corpus\n",
    "all_words = [word.lower() for word in movie_reviews.words()]\n",
    "\n",
    "# Count the frequence of each word in corpus\n",
    "all_words = nltk.FreqDist(all_words)\n",
    "all_words"
   ]
  },
  {
   "cell_type": "code",
   "execution_count": 4,
   "id": "465b9a43-47d4-43f4-8b63-eedc80516f26",
   "metadata": {},
   "outputs": [],
   "source": [
    "# Preparing the features to train the model\n",
    "word_features = all_words.keys()\n",
    "\n",
    "# Fuction to get features from a document/review\n",
    "def find_features(document):\n",
    "    '''\n",
    "    This fuction get a document/review and then compare what words from list of features is on document.\n",
    "    '''\n",
    "    words_doc = set(document)\n",
    "    features = {}\n",
    "    for w_f in word_features:\n",
    "        features[w_f] = (w_f in words_doc)\n",
    "\n",
    "    return features"
   ]
  },
  {
   "cell_type": "code",
   "execution_count": 5,
   "id": "361eefce-dfbd-46f4-9788-8eac7d0ebb0f",
   "metadata": {},
   "outputs": [],
   "source": [
    "# Creating the features set for all documents\n",
    "featuresets = [(find_features(rev), category) for (rev, category) in documents]"
   ]
  },
  {
   "cell_type": "code",
   "execution_count": 6,
   "id": "7e748494-360d-41ea-87db-83df6babcf40",
   "metadata": {},
   "outputs": [],
   "source": [
    "# Train Data. 95% for train\n",
    "training_set = featuresets[:(len(featuresets)*95)//100]\n",
    "\n",
    "# Test Data. 5% for test\n",
    "testing_set = featuresets[(len(featuresets)*95)//100:]"
   ]
  },
  {
   "cell_type": "code",
   "execution_count": 7,
   "id": "e87ce4e9-754f-4f00-85b9-3b4083c551c7",
   "metadata": {},
   "outputs": [],
   "source": [
    "# Creating and train the classifier\n",
    "classifier = nltk.NaiveBayesClassifier.train(training_set)"
   ]
  },
  {
   "cell_type": "code",
   "execution_count": 8,
   "id": "716fab2f-8e30-42e5-b982-9ffa9799d235",
   "metadata": {},
   "outputs": [
    {
     "name": "stdout",
     "output_type": "stream",
     "text": [
      "\n",
      "Model Accuracy: \n",
      "Classifier Accuracy: 84.0 %\n"
     ]
    }
   ],
   "source": [
    "# Getting the Accuracy\n",
    "print(\"\\nModel Accuracy: \")\n",
    "print(\"Classifier Accuracy:\",(nltk.classify.accuracy(classifier, testing_set))*100,\"%\")"
   ]
  },
  {
   "cell_type": "code",
   "execution_count": 12,
   "id": "45f116f9-3998-4e2a-9a72-eef0a5f8d609",
   "metadata": {},
   "outputs": [
    {
     "name": "stdout",
     "output_type": "stream",
     "text": [
      "Most Informative Features\n",
      "               ludicrous = True              neg : pos    =     14.6 : 1.0\n",
      "                  avoids = True              pos : neg    =     12.6 : 1.0\n",
      "              astounding = True              pos : neg    =     11.4 : 1.0\n",
      "             outstanding = True              pos : neg    =     11.1 : 1.0\n",
      "             fascination = True              pos : neg    =     10.7 : 1.0\n",
      "                    3000 = True              neg : pos    =     10.6 : 1.0\n",
      "               insulting = True              neg : pos    =     10.5 : 1.0\n",
      "                   sucks = True              neg : pos    =     10.1 : 1.0\n",
      "                  hatred = True              pos : neg    =     10.1 : 1.0\n",
      "                    slip = True              pos : neg    =     10.1 : 1.0\n",
      "                  hudson = True              neg : pos    =      9.9 : 1.0\n",
      "                  stinks = True              neg : pos    =      9.9 : 1.0\n",
      "                  annual = True              pos : neg    =      9.4 : 1.0\n",
      "                 rousing = True              pos : neg    =      9.4 : 1.0\n",
      "                seamless = True              pos : neg    =      9.4 : 1.0\n"
     ]
    }
   ],
   "source": [
    "# Most infromative features\n",
    "classifier.show_most_informative_features(15)"
   ]
  },
  {
   "cell_type": "code",
   "execution_count": null,
   "id": "9a7c05a1-d1cd-4254-8dba-e623cf3b6b46",
   "metadata": {},
   "outputs": [],
   "source": [
    "# Saving the classifier\n",
    "'''\n",
    "save_classifier = open(\"naivebayes.pickle\",\"wb\")\n",
    "pickle.dump(classifier, save_classifier)\n",
    "save_classifier.close()\n",
    "'''"
   ]
  },
  {
   "cell_type": "code",
   "execution_count": null,
   "id": "b271e402-f213-45f6-9c37-8f0bcb9787f1",
   "metadata": {},
   "outputs": [],
   "source": [
    "# Load the classifier\n",
    "'''\n",
    "classifier_f = open(\"naivebayes.pickle\", \"rb\")\n",
    "classifier = pickle.load(classifier_f)\n",
    "classifier_f.close()\n",
    "'''"
   ]
  },
  {
   "cell_type": "code",
   "execution_count": null,
   "id": "4db8e87a-8355-4170-9416-993c2ab35ef2",
   "metadata": {},
   "outputs": [],
   "source": []
  }
 ],
 "metadata": {
  "kernelspec": {
   "display_name": "Python [conda env:nlp]",
   "language": "python",
   "name": "conda-env-nlp-py"
  },
  "language_info": {
   "codemirror_mode": {
    "name": "ipython",
    "version": 3
   },
   "file_extension": ".py",
   "mimetype": "text/x-python",
   "name": "python",
   "nbconvert_exporter": "python",
   "pygments_lexer": "ipython3",
   "version": "3.9.12"
  }
 },
 "nbformat": 4,
 "nbformat_minor": 5
}
